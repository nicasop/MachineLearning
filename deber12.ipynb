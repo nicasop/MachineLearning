{
 "cells": [
  {
   "cell_type": "markdown",
   "metadata": {},
   "source": [
    "Deber 12 Evaluación Rendimiento Clasificadores \n",
    "Integrantes: Diego Bedoya - Jhon Granda - Anthony Grijalva - Sebastian Sandoval - Alexis Villaviencio"
   ]
  },
  {
   "cell_type": "markdown",
   "metadata": {},
   "source": [
    "Librerias"
   ]
  },
  {
   "cell_type": "code",
   "execution_count": 1,
   "metadata": {},
   "outputs": [],
   "source": [
    "import numpy as np"
   ]
  },
  {
   "cell_type": "markdown",
   "metadata": {},
   "source": [
    "Matriz de confusión a utilizar"
   ]
  },
  {
   "cell_type": "code",
   "execution_count": 2,
   "metadata": {},
   "outputs": [
    {
     "name": "stdout",
     "output_type": "stream",
     "text": [
      "[[ 944    0    5    3    0   12   14    1    1    0]\n",
      " [   0 1100    4    4    1    0    2    2   22    0]\n",
      " [  20   18  873   22   18    0   20   18   40    3]\n",
      " [  10    2   29  888    2   34    2   18   19    6]\n",
      " [   1    1    5    0  893    1   20    3    6   52]\n",
      " [  21    6    3   47   11  721   26    9   41    7]\n",
      " [  20    2   12    1   18   15  883    0    7    0]\n",
      " [   5   20   27    2    8    1    0  935    4   26]\n",
      " [   7   19   11   24   11   46   29   14  792   21]\n",
      " [  10    2    2   12   53   14    1   35   14  866]]\n",
      "[[130  74   2   6]\n",
      " [ 96  99   6  16]\n",
      " [  3   4 207   4]\n",
      " [  6  12   4 177]]\n"
     ]
    }
   ],
   "source": [
    "matriz = np.array([[944,0,5,3,0,12,14,1,1,0],\n",
    "                   [0,1100,4,4,1,0,2,2,22,0],\n",
    "                   [20,18,873,22,18,0,20,18,40,3],\n",
    "                   [10,2,29,888,2,34,2,18,19,6],\n",
    "                   [1,1,5,0,893,1,20,3,6,52],\n",
    "                   [21,6,3,47,11,721,26,9,41,7],\n",
    "                   [20,2,12,1,18,15,883,0,7,0],\n",
    "                   [5,20,27,2,8,1,0,935,4,26],\n",
    "                   [7,19,11,24,11,46,29,14,792,21],\n",
    "                   [10,2,2,12,53,14,1,35,14,866]])\n",
    "\n",
    "matriz_P = np.array([[130,74,2,6],\n",
    "                     [96,99,6,16],\n",
    "                     [3,4,207,4],\n",
    "                     [6,12,4,177]])\n",
    "\n",
    "print(matriz)\n",
    "print(matriz_P)"
   ]
  },
  {
   "cell_type": "markdown",
   "metadata": {},
   "source": [
    "Funciones"
   ]
  },
  {
   "cell_type": "code",
   "execution_count": 3,
   "metadata": {},
   "outputs": [],
   "source": [
    "def accuracy(matrix):\n",
    "    sum = 0\n",
    "    for i in range(len(matrix)):\n",
    "        sum += matrix[i][i]\n",
    "    return round(sum/np.sum(matrix),3)\n",
    "\n",
    "def precision(matrix,pos_clase):\n",
    "    mT = np.transpose(matrix)\n",
    "    return round(mT[pos_clase-1][pos_clase-1]/np.sum(mT[pos_clase-1]),3)\n",
    "\n",
    "def recall (matrix,pos_clase):\n",
    "    return round(matrix[pos_clase-1][pos_clase-1]/np.sum(matrix[pos_clase-1]),3)\n",
    "\n",
    "def F1_score(recall,precision):\n",
    "    return round(2*(recall*precision/(recall+precision)),3)"
   ]
  },
  {
   "cell_type": "markdown",
   "metadata": {},
   "source": [
    "Codigo"
   ]
  },
  {
   "cell_type": "code",
   "execution_count": 4,
   "metadata": {},
   "outputs": [
    {
     "name": "stdout",
     "output_type": "stream",
     "text": [
      "--------- Resumen de las Metricas ---------\n",
      "Acurracy: 0.89 \n",
      "\n",
      "Clase 1\n",
      "Precision: 0.909\n",
      "Recall: 0.963\n",
      "F1 Score: 0.935 \n",
      "\n",
      "Clase 2\n",
      "Precision: 0.94\n",
      "Recall: 0.969\n",
      "F1 Score: 0.954 \n",
      "\n",
      "Clase 3\n",
      "Precision: 0.899\n",
      "Recall: 0.846\n",
      "F1 Score: 0.872 \n",
      "\n",
      "Clase 4\n",
      "Precision: 0.885\n",
      "Recall: 0.879\n",
      "F1 Score: 0.882 \n",
      "\n",
      "Clase 5\n",
      "Precision: 0.88\n",
      "Recall: 0.909\n",
      "F1 Score: 0.894 \n",
      "\n",
      "Clase 6\n",
      "Precision: 0.854\n",
      "Recall: 0.808\n",
      "F1 Score: 0.83 \n",
      "\n",
      "Clase 7\n",
      "Precision: 0.886\n",
      "Recall: 0.922\n",
      "F1 Score: 0.904 \n",
      "\n",
      "Clase 8\n",
      "Precision: 0.903\n",
      "Recall: 0.91\n",
      "F1 Score: 0.906 \n",
      "\n",
      "Clase 9\n",
      "Precision: 0.837\n",
      "Recall: 0.813\n",
      "F1 Score: 0.825 \n",
      "\n",
      "Clase 10\n",
      "Precision: 0.883\n",
      "Recall: 0.858\n",
      "F1 Score: 0.87 \n",
      "\n"
     ]
    }
   ],
   "source": [
    "precision_values = []\n",
    "recall_values = []\n",
    "f1_score_values = []\n",
    "num_clases = len(matriz)\n",
    "\n",
    "for i in range(1,num_clases+1):\n",
    "    pc = precision(matriz,i)\n",
    "    rc = recall(matriz,i)\n",
    "    f1s = F1_score(rc,pc)\n",
    "    precision_values.append(pc)\n",
    "    recall_values.append(rc)\n",
    "    f1_score_values.append(f1s)\n",
    "\n",
    "print('--------- Resumen de las Metricas ---------')\n",
    "print('Acurracy:',accuracy(matriz),'\\n')\n",
    "for i in range(1,num_clases+1):\n",
    "    print('Clase',i)\n",
    "    print('Precision:',precision_values[i-1])\n",
    "    print('Recall:',recall_values[i-1])\n",
    "    print('F1 Score:',f1_score_values[i-1],'\\n')"
   ]
  }
 ],
 "metadata": {
  "kernelspec": {
   "display_name": "Python 3.10.4 ('venv': venv)",
   "language": "python",
   "name": "python3"
  },
  "language_info": {
   "codemirror_mode": {
    "name": "ipython",
    "version": 3
   },
   "file_extension": ".py",
   "mimetype": "text/x-python",
   "name": "python",
   "nbconvert_exporter": "python",
   "pygments_lexer": "ipython3",
   "version": "3.10.4"
  },
  "orig_nbformat": 4,
  "vscode": {
   "interpreter": {
    "hash": "c7d0076f7f30ce44e4ad8717c083ecd596b2b50f5b4c7eeebb5a285bcb845fc6"
   }
  }
 },
 "nbformat": 4,
 "nbformat_minor": 2
}
